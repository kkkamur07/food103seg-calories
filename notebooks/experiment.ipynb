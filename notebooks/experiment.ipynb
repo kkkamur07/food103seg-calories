{
 "cells": [
  {
   "cell_type": "code",
   "execution_count": 32,
   "id": "55fb2926",
   "metadata": {},
   "outputs": [],
   "source": [
    "import pandas as pd\n",
    "import os\n",
    "import matplotlib.pyplot as plt\n",
    "import numpy as np\n",
    "\n",
    "os.chdir(\"/home/krrish/home/desktop/sensor-behaviour/\")"
   ]
  },
  {
   "cell_type": "code",
   "execution_count": 12,
   "id": "8162e76b",
   "metadata": {},
   "outputs": [],
   "source": [
    "data = pd.read_csv(\"data/train.csv\")"
   ]
  },
  {
   "cell_type": "markdown",
   "id": "319cb89c",
   "metadata": {},
   "source": [
    "# Dataset Feature Description\n",
    "\n",
    "| Feature            | Description                                                                                                         | Notes                       |\n",
    "|--------------------|---------------------------------------------------------------------------------------------------------------------|-----------------------------|\n",
    "| **row_id**         | Unique identifier for each row in the dataset                                                                      |                             |\n",
    "| **sequence_id**    | ID for each batch of sensor data; each sequence contains one Transition, one Pause, and one Gesture                 | Grouping unit               |\n",
    "| **sequence_type**  | Indicates if the gesture is a *target* or *non-target* type                                                         | Training data only          |\n",
    "| **sequence_counter** | Counter for the row position within each sequence                                                                  | Sequence-level ordering     |\n",
    "| **subject**        | Unique ID for the subject who provided the data                                                                     |                             |\n",
    "| **gesture**        | Target variable describing the performed gesture                                                                    | Training data only, target  |\n",
    "| **orientation**    | Subject's orientation during the sequence                                                                            | Training data only          |\n",
    "| **behavior**       | Subject's behavior description during the current phase                                                             |                             |\n",
    "\n",
    "---\n",
    "\n",
    "### Sensor Data\n",
    "\n",
    "| Feature          | Description                                                                                                         | Units/Details               |\n",
    "|------------------|---------------------------------------------------------------------------------------------------------------------|----------------------------|\n",
    "| **acc_[x/y/z]**  | Linear acceleration along x, y, z axes from IMU sensor                                                              | meters per second squared   |\n",
    "| **rot_[w/x/y/z]**| Orientation data from IMU combining gyroscope, accelerometer, magnetometer readings to describe 3D orientation       | Quaternion format           |\n",
    "| **thm_[1-5]**    | Temperature readings from 5 thermopile sensors on the watch                                                          | Degrees Celsius             |\n",
    "| **tof_[1-5]_v[0-63]** | Distance measurements from 5 time-of-flight sensors; each sensor has 64 pixels in an 8x8 grid                     | Sensor values (0-254), -1 means no signal |\n",
    "\n",
    "---\n",
    "\n",
    "### Notes:\n",
    "- **gesture** is the **target column** for prediction.\n",
    "- **sequence_id** groups sensor readings into meaningful units (Transition, Pause, Gesture).\n",
    "- Time-of-flight sensor pixels (tof) represent spatial distance data arranged row-wise (8x8).\n"
   ]
  },
  {
   "cell_type": "code",
   "execution_count": null,
   "id": "37e8e68d",
   "metadata": {},
   "outputs": [
    {
     "data": {
      "text/plain": [
       "gesture\n",
       "Text on phone                                 58462\n",
       "Neck - scratch                                56619\n",
       "Eyebrow - pull hair                           44305\n",
       "Forehead - scratch                            40923\n",
       "Forehead - pull hairline                      40802\n",
       "Above ear - pull hair                         40560\n",
       "Neck - pinch skin                             40507\n",
       "Eyelash - pull hair                           40218\n",
       "Cheek - pinch skin                            40124\n",
       "Wave hello                                    34356\n",
       "Write name in air                             31267\n",
       "Pull air toward your face                     30743\n",
       "Feel around in tray and pull out an object    17114\n",
       "Glasses on/off                                13542\n",
       "Drink from bottle/cup                         13093\n",
       "Scratch knee/leg skin                         12328\n",
       "Write name on leg                             10138\n",
       "Pinch knee/leg skin                            9844\n",
       "Name: count, dtype: int64"
      ]
     },
     "execution_count": 67,
     "metadata": {},
     "output_type": "execute_result"
    }
   ],
   "source": [
    "data[\"gesture\"].value_counts() # signs that data is imbalanced"
   ]
  },
  {
   "cell_type": "code",
   "execution_count": 17,
   "id": "e6454a61",
   "metadata": {},
   "outputs": [
    {
     "data": {
      "text/html": [
       "<div>\n",
       "<style scoped>\n",
       "    .dataframe tbody tr th:only-of-type {\n",
       "        vertical-align: middle;\n",
       "    }\n",
       "\n",
       "    .dataframe tbody tr th {\n",
       "        vertical-align: top;\n",
       "    }\n",
       "\n",
       "    .dataframe thead th {\n",
       "        text-align: right;\n",
       "    }\n",
       "</style>\n",
       "<table border=\"1\" class=\"dataframe\">\n",
       "  <thead>\n",
       "    <tr style=\"text-align: right;\">\n",
       "      <th></th>\n",
       "      <th>thm_1</th>\n",
       "      <th>thm_2</th>\n",
       "      <th>thm_3</th>\n",
       "      <th>thm_4</th>\n",
       "      <th>thm_5</th>\n",
       "    </tr>\n",
       "  </thead>\n",
       "  <tbody>\n",
       "    <tr>\n",
       "      <th>0</th>\n",
       "      <td>28.943842</td>\n",
       "      <td>31.822186</td>\n",
       "      <td>29.553024</td>\n",
       "      <td>28.592863</td>\n",
       "      <td>28.310535</td>\n",
       "    </tr>\n",
       "    <tr>\n",
       "      <th>1</th>\n",
       "      <td>29.340816</td>\n",
       "      <td>31.874645</td>\n",
       "      <td>29.791740</td>\n",
       "      <td>28.663383</td>\n",
       "      <td>28.406172</td>\n",
       "    </tr>\n",
       "    <tr>\n",
       "      <th>2</th>\n",
       "      <td>30.339359</td>\n",
       "      <td>30.935045</td>\n",
       "      <td>30.090014</td>\n",
       "      <td>28.796087</td>\n",
       "      <td>28.529778</td>\n",
       "    </tr>\n",
       "    <tr>\n",
       "      <th>3</th>\n",
       "      <td>30.543730</td>\n",
       "      <td>27.044001</td>\n",
       "      <td>29.310717</td>\n",
       "      <td>29.018711</td>\n",
       "      <td>27.402010</td>\n",
       "    </tr>\n",
       "    <tr>\n",
       "      <th>4</th>\n",
       "      <td>29.317265</td>\n",
       "      <td>25.270855</td>\n",
       "      <td>26.808746</td>\n",
       "      <td>29.408604</td>\n",
       "      <td>27.357603</td>\n",
       "    </tr>\n",
       "    <tr>\n",
       "      <th>...</th>\n",
       "      <td>...</td>\n",
       "      <td>...</td>\n",
       "      <td>...</td>\n",
       "      <td>...</td>\n",
       "      <td>...</td>\n",
       "    </tr>\n",
       "    <tr>\n",
       "      <th>574940</th>\n",
       "      <td>29.329695</td>\n",
       "      <td>27.966221</td>\n",
       "      <td>27.857061</td>\n",
       "      <td>30.359417</td>\n",
       "      <td>29.501087</td>\n",
       "    </tr>\n",
       "    <tr>\n",
       "      <th>574941</th>\n",
       "      <td>29.370110</td>\n",
       "      <td>28.101042</td>\n",
       "      <td>27.965866</td>\n",
       "      <td>30.417227</td>\n",
       "      <td>29.244358</td>\n",
       "    </tr>\n",
       "    <tr>\n",
       "      <th>574942</th>\n",
       "      <td>29.458855</td>\n",
       "      <td>28.060148</td>\n",
       "      <td>27.893045</td>\n",
       "      <td>30.340141</td>\n",
       "      <td>29.244358</td>\n",
       "    </tr>\n",
       "    <tr>\n",
       "      <th>574943</th>\n",
       "      <td>29.789215</td>\n",
       "      <td>28.434057</td>\n",
       "      <td>28.046608</td>\n",
       "      <td>30.397961</td>\n",
       "      <td>28.868093</td>\n",
       "    </tr>\n",
       "    <tr>\n",
       "      <th>574944</th>\n",
       "      <td>29.696465</td>\n",
       "      <td>28.388973</td>\n",
       "      <td>27.965866</td>\n",
       "      <td>30.424807</td>\n",
       "      <td>28.860228</td>\n",
       "    </tr>\n",
       "  </tbody>\n",
       "</table>\n",
       "<p>574945 rows × 5 columns</p>\n",
       "</div>"
      ],
      "text/plain": [
       "            thm_1      thm_2      thm_3      thm_4      thm_5\n",
       "0       28.943842  31.822186  29.553024  28.592863  28.310535\n",
       "1       29.340816  31.874645  29.791740  28.663383  28.406172\n",
       "2       30.339359  30.935045  30.090014  28.796087  28.529778\n",
       "3       30.543730  27.044001  29.310717  29.018711  27.402010\n",
       "4       29.317265  25.270855  26.808746  29.408604  27.357603\n",
       "...           ...        ...        ...        ...        ...\n",
       "574940  29.329695  27.966221  27.857061  30.359417  29.501087\n",
       "574941  29.370110  28.101042  27.965866  30.417227  29.244358\n",
       "574942  29.458855  28.060148  27.893045  30.340141  29.244358\n",
       "574943  29.789215  28.434057  28.046608  30.397961  28.868093\n",
       "574944  29.696465  28.388973  27.965866  30.424807  28.860228\n",
       "\n",
       "[574945 rows x 5 columns]"
      ]
     },
     "execution_count": 17,
     "metadata": {},
     "output_type": "execute_result"
    }
   ],
   "source": [
    "data[[\"thm_1\", \"thm_2\", \"thm_3\", \"thm_4\", \"thm_5\"]] # 5 Temperature sensors"
   ]
  },
  {
   "cell_type": "code",
   "execution_count": 84,
   "id": "7f686156",
   "metadata": {},
   "outputs": [
    {
     "data": {
      "text/plain": [
       "sequence_id\n",
       "SEQ_015261    700\n",
       "SEQ_014205    671\n",
       "SEQ_028188    647\n",
       "SEQ_060593    630\n",
       "SEQ_016031    567\n",
       "             ... \n",
       "SEQ_011271     34\n",
       "SEQ_032114     34\n",
       "SEQ_022667     34\n",
       "SEQ_059162     34\n",
       "SEQ_009199     29\n",
       "Name: count, Length: 8151, dtype: int64"
      ]
     },
     "execution_count": 84,
     "metadata": {},
     "output_type": "execute_result"
    }
   ],
   "source": [
    "data[\"sequence_id\"].value_counts() # Sequence IDs"
   ]
  },
  {
   "cell_type": "code",
   "execution_count": 88,
   "id": "5d5a0342",
   "metadata": {},
   "outputs": [
    {
     "data": {
      "image/png": "[encoded data removed]",
      "text/plain": [
       "<Figure size 640x480 with 1 Axes>"
      ]
     },
     "metadata": {},
     "output_type": "display_data"
    },
    {
     "data": {
      "text/plain": [
       "array([[130., 138., 131., 135., 101.,  76.,  66.,  61.],\n",
       "       [ -1.,  -1., 156., 155., 141.,  93.,  74.,  64.],\n",
       "       [ -1.,  -1.,  -1.,  -1., 165., 116.,  86.,  75.],\n",
       "       [130.,  -1.,  -1.,  -1.,  -1., 142., 114.,  91.],\n",
       "       [127.,  -1.,  -1.,  -1.,  -1.,  -1., 145., 114.],\n",
       "       [114.,  -1.,  -1.,  -1., 135.,  -1.,  -1., 132.],\n",
       "       [110., 121., 138., 142., 123., 131.,  -1.,  -1.],\n",
       "       [ -1., 106., 120., 139., 119., 124., 131., 117.]])"
      ]
     },
     "execution_count": 88,
     "metadata": {},
     "output_type": "execute_result"
    }
   ],
   "source": [
    "grid = data.loc[1, f\"tof_1_v0\" : \"tof_1_v63\"].values.reshape(8, 8).astype(float)\n",
    "plt.imshow(grid, cmap='hot', interpolation=\"nearest\")\n",
    "plt.show()\n",
    "grid"
   ]
  },
  {
   "cell_type": "code",
   "execution_count": 63,
   "id": "fcb68889",
   "metadata": {},
   "outputs": [
    {
     "data": {
      "text/plain": [
       "thm_1    29.317265\n",
       "thm_2    25.270855\n",
       "thm_3    26.808746\n",
       "thm_4    29.408604\n",
       "thm_5    27.357603\n",
       "Name: 4, dtype: object"
      ]
     },
     "execution_count": 63,
     "metadata": {},
     "output_type": "execute_result"
    }
   ],
   "source": [
    "data.loc[4, \"thm_1\" : \"thm_5\"]  # Temperature sensors for the first row"
   ]
  }
 ],
 "metadata": {
  "kernelspec": {
   "display_name": "sensor-behaviour",
   "language": "python",
   "name": "python3"
  },
  "language_info": {
   "codemirror_mode": {
    "name": "ipython",
    "version": 3
   },
   "file_extension": ".py",
   "mimetype": "text/x-python",
   "name": "python",
   "nbconvert_exporter": "python",
   "pygments_lexer": "ipython3",
   "version": "3.11.2"
  }
 },
 "nbformat": 4,
 "nbformat_minor": 5
}
